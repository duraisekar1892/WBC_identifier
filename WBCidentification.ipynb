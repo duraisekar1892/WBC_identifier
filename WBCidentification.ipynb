{
  "nbformat": 4,
  "nbformat_minor": 0,
  "metadata": {
    "colab": {
      "name": "WBCidentification.ipynb",
      "provenance": [],
      "collapsed_sections": []
    },
    "kernelspec": {
      "name": "python3",
      "display_name": "Python 3"
    },
    "accelerator": "GPU"
  },
  "cells": [
    {
      "cell_type": "code",
      "metadata": {
        "id": "EQXJ9BZmX0sO"
      },
      "source": [
        "import tensorflow as tf"
      ],
      "execution_count": 1,
      "outputs": []
    },
    {
      "cell_type": "code",
      "metadata": {
        "id": "-m8777tOYGjT"
      },
      "source": [
        "from keras.preprocessing.image import ImageDataGenerator"
      ],
      "execution_count": 2,
      "outputs": []
    },
    {
      "cell_type": "code",
      "metadata": {
        "colab": {
          "base_uri": "https://localhost:8080/",
          "height": 35
        },
        "id": "qOcxDW_KYb3s",
        "outputId": "08f2857b-5263-4328-d6d9-ce51cc81e03e"
      },
      "source": [
        "tf.__version__"
      ],
      "execution_count": 3,
      "outputs": [
        {
          "output_type": "execute_result",
          "data": {
            "application/vnd.google.colaboratory.intrinsic+json": {
              "type": "string"
            },
            "text/plain": [
              "'2.4.1'"
            ]
          },
          "metadata": {
            "tags": []
          },
          "execution_count": 3
        }
      ]
    },
    {
      "cell_type": "code",
      "metadata": {
        "id": "Tc3xwy5SYg6O"
      },
      "source": [
        "image_gen = ImageDataGenerator(rescale=1./255)"
      ],
      "execution_count": 4,
      "outputs": []
    },
    {
      "cell_type": "code",
      "metadata": {
        "id": "2RQuZBz-ZLJ3"
      },
      "source": [
        "from google.colab import drive"
      ],
      "execution_count": 5,
      "outputs": []
    },
    {
      "cell_type": "code",
      "metadata": {
        "colab": {
          "base_uri": "https://localhost:8080/"
        },
        "id": "t59zMk6fa3zs",
        "outputId": "8a54d5ed-576c-4ecf-fd5a-9bf604473520"
      },
      "source": [
        "drive.mount('/content/gdrive')"
      ],
      "execution_count": 6,
      "outputs": [
        {
          "output_type": "stream",
          "text": [
            "Drive already mounted at /content/gdrive; to attempt to forcibly remount, call drive.mount(\"/content/gdrive\", force_remount=True).\n"
          ],
          "name": "stdout"
        }
      ]
    },
    {
      "cell_type": "code",
      "metadata": {
        "colab": {
          "base_uri": "https://localhost:8080/"
        },
        "id": "9CD-8aG3bbmN",
        "outputId": "84c78a23-c74f-4841-a63f-d86c3fe78445"
      },
      "source": [
        "train_data = image_gen.flow_from_directory('/content/gdrive/My Drive/Image Processing/Train',target_size=(227,227))"
      ],
      "execution_count": 7,
      "outputs": [
        {
          "output_type": "stream",
          "text": [
            "Found 9966 images belonging to 4 classes.\n"
          ],
          "name": "stdout"
        }
      ]
    },
    {
      "cell_type": "code",
      "metadata": {
        "colab": {
          "base_uri": "https://localhost:8080/"
        },
        "id": "A3XI08PccWH5",
        "outputId": "aaab3187-b0f2-4a73-9f72-527d44fd77cd"
      },
      "source": [
        "test_data = image_gen.flow_from_directory('/content/gdrive/My Drive/Image Processing/Test',target_size=(227,227))"
      ],
      "execution_count": 8,
      "outputs": [
        {
          "output_type": "stream",
          "text": [
            "Found 2487 images belonging to 4 classes.\n"
          ],
          "name": "stdout"
        }
      ]
    },
    {
      "cell_type": "code",
      "metadata": {
        "id": "O2D_MtHHcm2D"
      },
      "source": [
        "import tensorflow.keras.layers as layers"
      ],
      "execution_count": 9,
      "outputs": []
    },
    {
      "cell_type": "code",
      "metadata": {
        "id": "JRQNUdo7c7a7"
      },
      "source": [
        "WBC_classifier = tf.keras.models.Sequential()"
      ],
      "execution_count": 10,
      "outputs": []
    },
    {
      "cell_type": "code",
      "metadata": {
        "id": "K2WIOktrdBFq"
      },
      "source": [
        "WBC_classifier.add(layers.Conv2D(96,(11,11),strides=(4,4),activation='relu',input_shape=(227,227,3)))"
      ],
      "execution_count": 11,
      "outputs": []
    },
    {
      "cell_type": "code",
      "metadata": {
        "id": "fHaWqTeOdPN9"
      },
      "source": [
        "WBC_classifier.add(layers.BatchNormalization())"
      ],
      "execution_count": 12,
      "outputs": []
    },
    {
      "cell_type": "code",
      "metadata": {
        "id": "PtAcAPV1dUx2"
      },
      "source": [
        "WBC_classifier.add(layers.MaxPool2D((3,3),strides=(2,2)))"
      ],
      "execution_count": 13,
      "outputs": []
    },
    {
      "cell_type": "code",
      "metadata": {
        "id": "iVHR-90zdakG"
      },
      "source": [
        "WBC_classifier.add(layers.Conv2D(256,(5,5),padding='same',activation='relu'))"
      ],
      "execution_count": 14,
      "outputs": []
    },
    {
      "cell_type": "code",
      "metadata": {
        "id": "H_4c-PFTdeuF"
      },
      "source": [
        "WBC_classifier.add(layers.BatchNormalization())"
      ],
      "execution_count": 15,
      "outputs": []
    },
    {
      "cell_type": "code",
      "metadata": {
        "id": "Ue8lT0YjdhcY"
      },
      "source": [
        "WBC_classifier.add(layers.MaxPool2D((3,3),strides=(2,2)))"
      ],
      "execution_count": 16,
      "outputs": []
    },
    {
      "cell_type": "code",
      "metadata": {
        "id": "ty7v85rBdmLu"
      },
      "source": [
        "WBC_classifier.add(layers.Conv2D(384,(3,3),padding='same',activation='relu'))\r\n",
        "WBC_classifier.add(layers.BatchNormalization())\r\n",
        "WBC_classifier.add(layers.Conv2D(384,(3,3),padding='same',activation='relu'))\r\n",
        "WBC_classifier.add(layers.BatchNormalization())"
      ],
      "execution_count": 17,
      "outputs": []
    },
    {
      "cell_type": "code",
      "metadata": {
        "id": "jLBvjMXqdrau"
      },
      "source": [
        "WBC_classifier.add(layers.Conv2D(256,(3,3),padding='same',activation='relu'))\r\n",
        "WBC_classifier.add(layers.BatchNormalization())"
      ],
      "execution_count": 18,
      "outputs": []
    },
    {
      "cell_type": "code",
      "metadata": {
        "id": "YFNH4v0FdxG1"
      },
      "source": [
        "WBC_classifier.add(layers.MaxPool2D((3,3),strides=(2,2)))"
      ],
      "execution_count": 19,
      "outputs": []
    },
    {
      "cell_type": "code",
      "metadata": {
        "id": "qAhRDKExd05g"
      },
      "source": [
        "WBC_classifier.add(layers.Flatten())"
      ],
      "execution_count": 20,
      "outputs": []
    },
    {
      "cell_type": "code",
      "metadata": {
        "id": "VK1Pf2oxd5Od"
      },
      "source": [
        "WBC_classifier.add(layers.Dense(4096,activation='relu'))\r\n",
        "WBC_classifier.add(layers.Dropout(0.5))"
      ],
      "execution_count": 21,
      "outputs": []
    },
    {
      "cell_type": "code",
      "metadata": {
        "id": "A_STv2UPd-xD"
      },
      "source": [
        "WBC_classifier.add(layers.Dense(4096,activation='relu'))\r\n",
        "WBC_classifier.add(layers.Dropout(0.5))"
      ],
      "execution_count": 22,
      "outputs": []
    },
    {
      "cell_type": "code",
      "metadata": {
        "id": "6PRSneQaeEGA"
      },
      "source": [
        "WBC_classifier.add(layers.Dense(4,activation='softmax'))"
      ],
      "execution_count": 23,
      "outputs": []
    },
    {
      "cell_type": "code",
      "metadata": {
        "id": "fnNI4fZCeJgh"
      },
      "source": [
        "WBC_classifier.compile(optimizer=tf.keras.optimizers.Adam(),loss='categorical_crossentropy',metrics=['accuracy'])"
      ],
      "execution_count": 24,
      "outputs": []
    },
    {
      "cell_type": "code",
      "metadata": {
        "colab": {
          "base_uri": "https://localhost:8080/"
        },
        "id": "0yPB0A-aeNzp",
        "outputId": "ac2727cd-0d5e-431b-c2ce-af457eb13460"
      },
      "source": [
        "WBC_classifier.summary()"
      ],
      "execution_count": 25,
      "outputs": [
        {
          "output_type": "stream",
          "text": [
            "Model: \"sequential\"\n",
            "_________________________________________________________________\n",
            "Layer (type)                 Output Shape              Param #   \n",
            "=================================================================\n",
            "conv2d (Conv2D)              (None, 55, 55, 96)        34944     \n",
            "_________________________________________________________________\n",
            "batch_normalization (BatchNo (None, 55, 55, 96)        384       \n",
            "_________________________________________________________________\n",
            "max_pooling2d (MaxPooling2D) (None, 27, 27, 96)        0         \n",
            "_________________________________________________________________\n",
            "conv2d_1 (Conv2D)            (None, 27, 27, 256)       614656    \n",
            "_________________________________________________________________\n",
            "batch_normalization_1 (Batch (None, 27, 27, 256)       1024      \n",
            "_________________________________________________________________\n",
            "max_pooling2d_1 (MaxPooling2 (None, 13, 13, 256)       0         \n",
            "_________________________________________________________________\n",
            "conv2d_2 (Conv2D)            (None, 13, 13, 384)       885120    \n",
            "_________________________________________________________________\n",
            "batch_normalization_2 (Batch (None, 13, 13, 384)       1536      \n",
            "_________________________________________________________________\n",
            "conv2d_3 (Conv2D)            (None, 13, 13, 384)       1327488   \n",
            "_________________________________________________________________\n",
            "batch_normalization_3 (Batch (None, 13, 13, 384)       1536      \n",
            "_________________________________________________________________\n",
            "conv2d_4 (Conv2D)            (None, 13, 13, 256)       884992    \n",
            "_________________________________________________________________\n",
            "batch_normalization_4 (Batch (None, 13, 13, 256)       1024      \n",
            "_________________________________________________________________\n",
            "max_pooling2d_2 (MaxPooling2 (None, 6, 6, 256)         0         \n",
            "_________________________________________________________________\n",
            "flatten (Flatten)            (None, 9216)              0         \n",
            "_________________________________________________________________\n",
            "dense (Dense)                (None, 4096)              37752832  \n",
            "_________________________________________________________________\n",
            "dropout (Dropout)            (None, 4096)              0         \n",
            "_________________________________________________________________\n",
            "dense_1 (Dense)              (None, 4096)              16781312  \n",
            "_________________________________________________________________\n",
            "dropout_1 (Dropout)          (None, 4096)              0         \n",
            "_________________________________________________________________\n",
            "dense_2 (Dense)              (None, 4)                 16388     \n",
            "=================================================================\n",
            "Total params: 58,303,236\n",
            "Trainable params: 58,300,484\n",
            "Non-trainable params: 2,752\n",
            "_________________________________________________________________\n"
          ],
          "name": "stdout"
        }
      ]
    },
    {
      "cell_type": "code",
      "metadata": {
        "colab": {
          "base_uri": "https://localhost:8080/"
        },
        "id": "6K9PLKM-eRD5",
        "outputId": "c8dba7d4-70a0-4615-a818-59a118be10f3"
      },
      "source": [
        "WBC_classifier.fit_generator(train_data,validation_data=test_data,max_queue_size=120,workers=10,use_multiprocessing=True,epochs=50)"
      ],
      "execution_count": 26,
      "outputs": [
        {
          "output_type": "stream",
          "text": [
            "/usr/local/lib/python3.6/dist-packages/tensorflow/python/keras/engine/training.py:1844: UserWarning: `Model.fit_generator` is deprecated and will be removed in a future version. Please use `Model.fit`, which supports generators.\n",
            "  warnings.warn('`Model.fit_generator` is deprecated and '\n"
          ],
          "name": "stderr"
        },
        {
          "output_type": "stream",
          "text": [
            "Epoch 1/50\n",
            "WARNING:tensorflow:multiprocessing can interact badly with TensorFlow, causing nondeterministic deadlocks. For high performance data pipelines tf.data is recommended.\n",
            "311/312 [============================>.] - ETA: 0s - loss: 8.2618 - accuracy: 0.3153WARNING:tensorflow:multiprocessing can interact badly with TensorFlow, causing nondeterministic deadlocks. For high performance data pipelines tf.data is recommended.\n",
            "WARNING:tensorflow:multiprocessing can interact badly with TensorFlow, causing nondeterministic deadlocks. For high performance data pipelines tf.data is recommended.\n",
            "WARNING:tensorflow:multiprocessing can interact badly with TensorFlow, causing nondeterministic deadlocks. For high performance data pipelines tf.data is recommended.\n",
            "312/312 [==============================] - 348s 1s/step - loss: 8.2285 - accuracy: 0.3158 - val_loss: 40.5956 - val_accuracy: 0.2493\n",
            "Epoch 2/50\n",
            "WARNING:tensorflow:multiprocessing can interact badly with TensorFlow, causing nondeterministic deadlocks. For high performance data pipelines tf.data is recommended.\n",
            "311/312 [============================>.] - ETA: 0s - loss: 1.0765 - accuracy: 0.5577WARNING:tensorflow:multiprocessing can interact badly with TensorFlow, causing nondeterministic deadlocks. For high performance data pipelines tf.data is recommended.\n",
            "WARNING:tensorflow:multiprocessing can interact badly with TensorFlow, causing nondeterministic deadlocks. For high performance data pipelines tf.data is recommended.\n",
            "312/312 [==============================] - 59s 181ms/step - loss: 1.0763 - accuracy: 0.5579 - val_loss: 44.2714 - val_accuracy: 0.2493\n",
            "Epoch 3/50\n",
            "WARNING:tensorflow:multiprocessing can interact badly with TensorFlow, causing nondeterministic deadlocks. For high performance data pipelines tf.data is recommended.\n",
            "311/312 [============================>.] - ETA: 0s - loss: 0.8661 - accuracy: 0.6537WARNING:tensorflow:multiprocessing can interact badly with TensorFlow, causing nondeterministic deadlocks. For high performance data pipelines tf.data is recommended.\n",
            "WARNING:tensorflow:multiprocessing can interact badly with TensorFlow, causing nondeterministic deadlocks. For high performance data pipelines tf.data is recommended.\n",
            "312/312 [==============================] - 63s 195ms/step - loss: 0.8657 - accuracy: 0.6538 - val_loss: 124.4601 - val_accuracy: 0.2493\n",
            "Epoch 4/50\n",
            "WARNING:tensorflow:multiprocessing can interact badly with TensorFlow, causing nondeterministic deadlocks. For high performance data pipelines tf.data is recommended.\n",
            "312/312 [==============================] - ETA: 0s - loss: 0.6755 - accuracy: 0.7402WARNING:tensorflow:multiprocessing can interact badly with TensorFlow, causing nondeterministic deadlocks. For high performance data pipelines tf.data is recommended.\n",
            "WARNING:tensorflow:multiprocessing can interact badly with TensorFlow, causing nondeterministic deadlocks. For high performance data pipelines tf.data is recommended.\n",
            "312/312 [==============================] - 62s 186ms/step - loss: 0.6755 - accuracy: 0.7402 - val_loss: 32.5776 - val_accuracy: 0.2501\n",
            "Epoch 5/50\n",
            "WARNING:tensorflow:multiprocessing can interact badly with TensorFlow, causing nondeterministic deadlocks. For high performance data pipelines tf.data is recommended.\n",
            "312/312 [==============================] - ETA: 0s - loss: 0.5483 - accuracy: 0.7921WARNING:tensorflow:multiprocessing can interact badly with TensorFlow, causing nondeterministic deadlocks. For high performance data pipelines tf.data is recommended.\n",
            "WARNING:tensorflow:multiprocessing can interact badly with TensorFlow, causing nondeterministic deadlocks. For high performance data pipelines tf.data is recommended.\n",
            "WARNING:tensorflow:multiprocessing can interact badly with TensorFlow, causing nondeterministic deadlocks. For high performance data pipelines tf.data is recommended.\n",
            "312/312 [==============================] - 64s 195ms/step - loss: 0.5483 - accuracy: 0.7921 - val_loss: 14.9402 - val_accuracy: 0.2437\n",
            "Epoch 6/50\n",
            "WARNING:tensorflow:multiprocessing can interact badly with TensorFlow, causing nondeterministic deadlocks. For high performance data pipelines tf.data is recommended.\n",
            "311/312 [============================>.] - ETA: 0s - loss: 0.4748 - accuracy: 0.8312WARNING:tensorflow:multiprocessing can interact badly with TensorFlow, causing nondeterministic deadlocks. For high performance data pipelines tf.data is recommended.\n",
            "WARNING:tensorflow:multiprocessing can interact badly with TensorFlow, causing nondeterministic deadlocks. For high performance data pipelines tf.data is recommended.\n",
            "312/312 [==============================] - 63s 191ms/step - loss: 0.4747 - accuracy: 0.8312 - val_loss: 0.8394 - val_accuracy: 0.5875\n",
            "Epoch 7/50\n",
            "WARNING:tensorflow:multiprocessing can interact badly with TensorFlow, causing nondeterministic deadlocks. For high performance data pipelines tf.data is recommended.\n",
            "311/312 [============================>.] - ETA: 0s - loss: 0.3841 - accuracy: 0.8644WARNING:tensorflow:multiprocessing can interact badly with TensorFlow, causing nondeterministic deadlocks. For high performance data pipelines tf.data is recommended.\n",
            "WARNING:tensorflow:multiprocessing can interact badly with TensorFlow, causing nondeterministic deadlocks. For high performance data pipelines tf.data is recommended.\n",
            "312/312 [==============================] - 62s 190ms/step - loss: 0.3841 - accuracy: 0.8644 - val_loss: 33.3301 - val_accuracy: 0.2589\n",
            "Epoch 8/50\n",
            "WARNING:tensorflow:multiprocessing can interact badly with TensorFlow, causing nondeterministic deadlocks. For high performance data pipelines tf.data is recommended.\n",
            "312/312 [==============================] - ETA: 0s - loss: 0.3497 - accuracy: 0.8831WARNING:tensorflow:multiprocessing can interact badly with TensorFlow, causing nondeterministic deadlocks. For high performance data pipelines tf.data is recommended.\n",
            "WARNING:tensorflow:multiprocessing can interact badly with TensorFlow, causing nondeterministic deadlocks. For high performance data pipelines tf.data is recommended.\n",
            "312/312 [==============================] - 63s 192ms/step - loss: 0.3498 - accuracy: 0.8830 - val_loss: 0.9840 - val_accuracy: 0.6285\n",
            "Epoch 9/50\n",
            "WARNING:tensorflow:multiprocessing can interact badly with TensorFlow, causing nondeterministic deadlocks. For high performance data pipelines tf.data is recommended.\n",
            "311/312 [============================>.] - ETA: 0s - loss: 0.4813 - accuracy: 0.8396WARNING:tensorflow:multiprocessing can interact badly with TensorFlow, causing nondeterministic deadlocks. For high performance data pipelines tf.data is recommended.\n",
            "312/312 [==============================] - ETA: 0s - loss: 0.4811 - accuracy: 0.8396WARNING:tensorflow:multiprocessing can interact badly with TensorFlow, causing nondeterministic deadlocks. For high performance data pipelines tf.data is recommended.\n",
            "WARNING:tensorflow:multiprocessing can interact badly with TensorFlow, causing nondeterministic deadlocks. For high performance data pipelines tf.data is recommended.\n",
            "312/312 [==============================] - 65s 201ms/step - loss: 0.4810 - accuracy: 0.8397 - val_loss: 3.4428 - val_accuracy: 0.4383\n",
            "Epoch 10/50\n",
            "WARNING:tensorflow:multiprocessing can interact badly with TensorFlow, causing nondeterministic deadlocks. For high performance data pipelines tf.data is recommended.\n",
            "310/312 [============================>.] - ETA: 0s - loss: 0.4537 - accuracy: 0.8618WARNING:tensorflow:multiprocessing can interact badly with TensorFlow, causing nondeterministic deadlocks. For high performance data pipelines tf.data is recommended.\n",
            "312/312 [==============================] - ETA: 0s - loss: 0.4532 - accuracy: 0.8619WARNING:tensorflow:multiprocessing can interact badly with TensorFlow, causing nondeterministic deadlocks. For high performance data pipelines tf.data is recommended.\n",
            "312/312 [==============================] - 63s 190ms/step - loss: 0.4530 - accuracy: 0.8619 - val_loss: 59.3254 - val_accuracy: 0.2513\n",
            "Epoch 11/50\n",
            "WARNING:tensorflow:multiprocessing can interact badly with TensorFlow, causing nondeterministic deadlocks. For high performance data pipelines tf.data is recommended.\n",
            "311/312 [============================>.] - ETA: 0s - loss: 0.2832 - accuracy: 0.9067WARNING:tensorflow:multiprocessing can interact badly with TensorFlow, causing nondeterministic deadlocks. For high performance data pipelines tf.data is recommended.\n",
            "WARNING:tensorflow:multiprocessing can interact badly with TensorFlow, causing nondeterministic deadlocks. For high performance data pipelines tf.data is recommended.\n",
            "312/312 [==============================] - 63s 192ms/step - loss: 0.2830 - accuracy: 0.9068 - val_loss: 0.6469 - val_accuracy: 0.7624\n",
            "Epoch 12/50\n",
            "WARNING:tensorflow:multiprocessing can interact badly with TensorFlow, causing nondeterministic deadlocks. For high performance data pipelines tf.data is recommended.\n",
            "311/312 [============================>.] - ETA: 0s - loss: 0.1776 - accuracy: 0.9396WARNING:tensorflow:multiprocessing can interact badly with TensorFlow, causing nondeterministic deadlocks. For high performance data pipelines tf.data is recommended.\n",
            "WARNING:tensorflow:multiprocessing can interact badly with TensorFlow, causing nondeterministic deadlocks. For high performance data pipelines tf.data is recommended.\n",
            "312/312 [==============================] - 64s 190ms/step - loss: 0.1777 - accuracy: 0.9396 - val_loss: 0.8452 - val_accuracy: 0.8243\n",
            "Epoch 13/50\n",
            "WARNING:tensorflow:multiprocessing can interact badly with TensorFlow, causing nondeterministic deadlocks. For high performance data pipelines tf.data is recommended.\n",
            "311/312 [============================>.] - ETA: 0s - loss: 0.2407 - accuracy: 0.9300WARNING:tensorflow:multiprocessing can interact badly with TensorFlow, causing nondeterministic deadlocks. For high performance data pipelines tf.data is recommended.\n",
            "312/312 [==============================] - ETA: 0s - loss: 0.2409 - accuracy: 0.9300WARNING:tensorflow:multiprocessing can interact badly with TensorFlow, causing nondeterministic deadlocks. For high performance data pipelines tf.data is recommended.\n",
            "312/312 [==============================] - 63s 190ms/step - loss: 0.2410 - accuracy: 0.9299 - val_loss: 0.6276 - val_accuracy: 0.7177\n",
            "Epoch 14/50\n",
            "WARNING:tensorflow:multiprocessing can interact badly with TensorFlow, causing nondeterministic deadlocks. For high performance data pipelines tf.data is recommended.\n",
            "312/312 [==============================] - ETA: 0s - loss: 0.3365 - accuracy: 0.9034WARNING:tensorflow:multiprocessing can interact badly with TensorFlow, causing nondeterministic deadlocks. For high performance data pipelines tf.data is recommended.\n",
            "WARNING:tensorflow:multiprocessing can interact badly with TensorFlow, causing nondeterministic deadlocks. For high performance data pipelines tf.data is recommended.\n",
            "312/312 [==============================] - 64s 193ms/step - loss: 0.3371 - accuracy: 0.9032 - val_loss: 1.4035 - val_accuracy: 0.5131\n",
            "Epoch 15/50\n",
            "WARNING:tensorflow:multiprocessing can interact badly with TensorFlow, causing nondeterministic deadlocks. For high performance data pipelines tf.data is recommended.\n",
            "311/312 [============================>.] - ETA: 0s - loss: 0.4473 - accuracy: 0.8439WARNING:tensorflow:multiprocessing can interact badly with TensorFlow, causing nondeterministic deadlocks. For high performance data pipelines tf.data is recommended.\n",
            "312/312 [==============================] - ETA: 0s - loss: 0.4470 - accuracy: 0.8440WARNING:tensorflow:multiprocessing can interact badly with TensorFlow, causing nondeterministic deadlocks. For high performance data pipelines tf.data is recommended.\n",
            "WARNING:tensorflow:multiprocessing can interact badly with TensorFlow, causing nondeterministic deadlocks. For high performance data pipelines tf.data is recommended.\n",
            "312/312 [==============================] - 63s 195ms/step - loss: 0.4467 - accuracy: 0.8441 - val_loss: 1.1637 - val_accuracy: 0.6297\n",
            "Epoch 16/50\n",
            "WARNING:tensorflow:multiprocessing can interact badly with TensorFlow, causing nondeterministic deadlocks. For high performance data pipelines tf.data is recommended.\n",
            "312/312 [==============================] - ETA: 0s - loss: 0.1617 - accuracy: 0.9403WARNING:tensorflow:multiprocessing can interact badly with TensorFlow, causing nondeterministic deadlocks. For high performance data pipelines tf.data is recommended.\n",
            "WARNING:tensorflow:multiprocessing can interact badly with TensorFlow, causing nondeterministic deadlocks. For high performance data pipelines tf.data is recommended.\n",
            "312/312 [==============================] - 64s 194ms/step - loss: 0.1617 - accuracy: 0.9403 - val_loss: 0.8556 - val_accuracy: 0.7748\n",
            "Epoch 17/50\n",
            "WARNING:tensorflow:multiprocessing can interact badly with TensorFlow, causing nondeterministic deadlocks. For high performance data pipelines tf.data is recommended.\n",
            "311/312 [============================>.] - ETA: 0s - loss: 0.2798 - accuracy: 0.9345WARNING:tensorflow:multiprocessing can interact badly with TensorFlow, causing nondeterministic deadlocks. For high performance data pipelines tf.data is recommended.\n",
            "WARNING:tensorflow:multiprocessing can interact badly with TensorFlow, causing nondeterministic deadlocks. For high performance data pipelines tf.data is recommended.\n",
            "312/312 [==============================] - 64s 195ms/step - loss: 0.2801 - accuracy: 0.9345 - val_loss: 14.9252 - val_accuracy: 0.4146\n",
            "Epoch 18/50\n",
            "WARNING:tensorflow:multiprocessing can interact badly with TensorFlow, causing nondeterministic deadlocks. For high performance data pipelines tf.data is recommended.\n",
            "311/312 [============================>.] - ETA: 0s - loss: 0.2557 - accuracy: 0.9268WARNING:tensorflow:multiprocessing can interact badly with TensorFlow, causing nondeterministic deadlocks. For high performance data pipelines tf.data is recommended.\n",
            "WARNING:tensorflow:multiprocessing can interact badly with TensorFlow, causing nondeterministic deadlocks. For high performance data pipelines tf.data is recommended.\n",
            "312/312 [==============================] - 63s 191ms/step - loss: 0.2557 - accuracy: 0.9268 - val_loss: 0.6422 - val_accuracy: 0.8195\n",
            "Epoch 19/50\n",
            "WARNING:tensorflow:multiprocessing can interact badly with TensorFlow, causing nondeterministic deadlocks. For high performance data pipelines tf.data is recommended.\n",
            "312/312 [==============================] - ETA: 0s - loss: 0.1157 - accuracy: 0.9643WARNING:tensorflow:multiprocessing can interact badly with TensorFlow, causing nondeterministic deadlocks. For high performance data pipelines tf.data is recommended.\n",
            "WARNING:tensorflow:multiprocessing can interact badly with TensorFlow, causing nondeterministic deadlocks. For high performance data pipelines tf.data is recommended.\n",
            "312/312 [==============================] - 63s 191ms/step - loss: 0.1157 - accuracy: 0.9643 - val_loss: 304.3754 - val_accuracy: 0.2505\n",
            "Epoch 20/50\n",
            "WARNING:tensorflow:multiprocessing can interact badly with TensorFlow, causing nondeterministic deadlocks. For high performance data pipelines tf.data is recommended.\n",
            "311/312 [============================>.] - ETA: 0s - loss: 0.1137 - accuracy: 0.9631WARNING:tensorflow:multiprocessing can interact badly with TensorFlow, causing nondeterministic deadlocks. For high performance data pipelines tf.data is recommended.\n",
            "312/312 [==============================] - ETA: 0s - loss: 0.1137 - accuracy: 0.9631WARNING:tensorflow:multiprocessing can interact badly with TensorFlow, causing nondeterministic deadlocks. For high performance data pipelines tf.data is recommended.\n",
            "WARNING:tensorflow:multiprocessing can interact badly with TensorFlow, causing nondeterministic deadlocks. For high performance data pipelines tf.data is recommended.\n",
            "312/312 [==============================] - 64s 195ms/step - loss: 0.1137 - accuracy: 0.9631 - val_loss: 0.4787 - val_accuracy: 0.8436\n",
            "Epoch 21/50\n",
            "WARNING:tensorflow:multiprocessing can interact badly with TensorFlow, causing nondeterministic deadlocks. For high performance data pipelines tf.data is recommended.\n",
            "311/312 [============================>.] - ETA: 0s - loss: 0.2447 - accuracy: 0.9618WARNING:tensorflow:multiprocessing can interact badly with TensorFlow, causing nondeterministic deadlocks. For high performance data pipelines tf.data is recommended.\n",
            "WARNING:tensorflow:multiprocessing can interact badly with TensorFlow, causing nondeterministic deadlocks. For high performance data pipelines tf.data is recommended.\n",
            "WARNING:tensorflow:multiprocessing can interact badly with TensorFlow, causing nondeterministic deadlocks. For high performance data pipelines tf.data is recommended.\n",
            "312/312 [==============================] - 65s 194ms/step - loss: 0.2442 - accuracy: 0.9618 - val_loss: 0.7530 - val_accuracy: 0.7998\n",
            "Epoch 22/50\n",
            "WARNING:tensorflow:multiprocessing can interact badly with TensorFlow, causing nondeterministic deadlocks. For high performance data pipelines tf.data is recommended.\n",
            "311/312 [============================>.] - ETA: 0s - loss: 0.1905 - accuracy: 0.9519WARNING:tensorflow:multiprocessing can interact badly with TensorFlow, causing nondeterministic deadlocks. For high performance data pipelines tf.data is recommended.\n",
            "312/312 [==============================] - ETA: 0s - loss: 0.1904 - accuracy: 0.9519WARNING:tensorflow:multiprocessing can interact badly with TensorFlow, causing nondeterministic deadlocks. For high performance data pipelines tf.data is recommended.\n",
            "312/312 [==============================] - 63s 187ms/step - loss: 0.1903 - accuracy: 0.9519 - val_loss: 233.2563 - val_accuracy: 0.2505\n",
            "Epoch 23/50\n",
            "WARNING:tensorflow:multiprocessing can interact badly with TensorFlow, causing nondeterministic deadlocks. For high performance data pipelines tf.data is recommended.\n",
            "311/312 [============================>.] - ETA: 0s - loss: 0.3347 - accuracy: 0.9426WARNING:tensorflow:multiprocessing can interact badly with TensorFlow, causing nondeterministic deadlocks. For high performance data pipelines tf.data is recommended.\n",
            "WARNING:tensorflow:multiprocessing can interact badly with TensorFlow, causing nondeterministic deadlocks. For high performance data pipelines tf.data is recommended.\n",
            "WARNING:tensorflow:multiprocessing can interact badly with TensorFlow, causing nondeterministic deadlocks. For high performance data pipelines tf.data is recommended.\n",
            "312/312 [==============================] - 66s 202ms/step - loss: 0.3340 - accuracy: 0.9427 - val_loss: 1.3900 - val_accuracy: 0.7998\n",
            "Epoch 24/50\n",
            "WARNING:tensorflow:multiprocessing can interact badly with TensorFlow, causing nondeterministic deadlocks. For high performance data pipelines tf.data is recommended.\n",
            "312/312 [==============================] - ETA: 0s - loss: 0.0944 - accuracy: 0.9770WARNING:tensorflow:multiprocessing can interact badly with TensorFlow, causing nondeterministic deadlocks. For high performance data pipelines tf.data is recommended.\n",
            "WARNING:tensorflow:multiprocessing can interact badly with TensorFlow, causing nondeterministic deadlocks. For high performance data pipelines tf.data is recommended.\n",
            "312/312 [==============================] - 65s 200ms/step - loss: 0.0945 - accuracy: 0.9770 - val_loss: 4.6994 - val_accuracy: 0.6647\n",
            "Epoch 25/50\n",
            "WARNING:tensorflow:multiprocessing can interact badly with TensorFlow, causing nondeterministic deadlocks. For high performance data pipelines tf.data is recommended.\n",
            "311/312 [============================>.] - ETA: 0s - loss: 0.2851 - accuracy: 0.9471WARNING:tensorflow:multiprocessing can interact badly with TensorFlow, causing nondeterministic deadlocks. For high performance data pipelines tf.data is recommended.\n",
            "WARNING:tensorflow:multiprocessing can interact badly with TensorFlow, causing nondeterministic deadlocks. For high performance data pipelines tf.data is recommended.\n",
            "312/312 [==============================] - 64s 193ms/step - loss: 0.2853 - accuracy: 0.9470 - val_loss: 2.5194 - val_accuracy: 0.6968\n",
            "Epoch 26/50\n",
            "WARNING:tensorflow:multiprocessing can interact badly with TensorFlow, causing nondeterministic deadlocks. For high performance data pipelines tf.data is recommended.\n",
            "312/312 [==============================] - ETA: 0s - loss: 0.0646 - accuracy: 0.9783WARNING:tensorflow:multiprocessing can interact badly with TensorFlow, causing nondeterministic deadlocks. For high performance data pipelines tf.data is recommended.\n",
            "WARNING:tensorflow:multiprocessing can interact badly with TensorFlow, causing nondeterministic deadlocks. For high performance data pipelines tf.data is recommended.\n",
            "312/312 [==============================] - 64s 191ms/step - loss: 0.0646 - accuracy: 0.9783 - val_loss: 2.3735 - val_accuracy: 0.6807\n",
            "Epoch 27/50\n",
            "WARNING:tensorflow:multiprocessing can interact badly with TensorFlow, causing nondeterministic deadlocks. For high performance data pipelines tf.data is recommended.\n",
            "311/312 [============================>.] - ETA: 0s - loss: 0.1997 - accuracy: 0.9558WARNING:tensorflow:multiprocessing can interact badly with TensorFlow, causing nondeterministic deadlocks. For high performance data pipelines tf.data is recommended.\n",
            "WARNING:tensorflow:multiprocessing can interact badly with TensorFlow, causing nondeterministic deadlocks. For high performance data pipelines tf.data is recommended.\n",
            "WARNING:tensorflow:multiprocessing can interact badly with TensorFlow, causing nondeterministic deadlocks. For high performance data pipelines tf.data is recommended.\n",
            "312/312 [==============================] - 64s 197ms/step - loss: 0.1994 - accuracy: 0.9559 - val_loss: 1.4599 - val_accuracy: 0.7921\n",
            "Epoch 28/50\n",
            "WARNING:tensorflow:multiprocessing can interact badly with TensorFlow, causing nondeterministic deadlocks. For high performance data pipelines tf.data is recommended.\n",
            "312/312 [==============================] - ETA: 0s - loss: 0.0642 - accuracy: 0.9828WARNING:tensorflow:multiprocessing can interact badly with TensorFlow, causing nondeterministic deadlocks. For high performance data pipelines tf.data is recommended.\n",
            "WARNING:tensorflow:multiprocessing can interact badly with TensorFlow, causing nondeterministic deadlocks. For high performance data pipelines tf.data is recommended.\n",
            "312/312 [==============================] - 64s 192ms/step - loss: 0.0643 - accuracy: 0.9828 - val_loss: 2.2545 - val_accuracy: 0.5058\n",
            "Epoch 29/50\n",
            "WARNING:tensorflow:multiprocessing can interact badly with TensorFlow, causing nondeterministic deadlocks. For high performance data pipelines tf.data is recommended.\n",
            "312/312 [==============================] - ETA: 0s - loss: 0.0866 - accuracy: 0.9790WARNING:tensorflow:multiprocessing can interact badly with TensorFlow, causing nondeterministic deadlocks. For high performance data pipelines tf.data is recommended.\n",
            "WARNING:tensorflow:multiprocessing can interact badly with TensorFlow, causing nondeterministic deadlocks. For high performance data pipelines tf.data is recommended.\n",
            "WARNING:tensorflow:multiprocessing can interact badly with TensorFlow, causing nondeterministic deadlocks. For high performance data pipelines tf.data is recommended.\n",
            "312/312 [==============================] - 66s 202ms/step - loss: 0.0866 - accuracy: 0.9790 - val_loss: 2.8156 - val_accuracy: 0.7531\n",
            "Epoch 30/50\n",
            "WARNING:tensorflow:multiprocessing can interact badly with TensorFlow, causing nondeterministic deadlocks. For high performance data pipelines tf.data is recommended.\n",
            "311/312 [============================>.] - ETA: 0s - loss: 0.0634 - accuracy: 0.9850WARNING:tensorflow:multiprocessing can interact badly with TensorFlow, causing nondeterministic deadlocks. For high performance data pipelines tf.data is recommended.\n",
            "312/312 [==============================] - ETA: 0s - loss: 0.0636 - accuracy: 0.9849WARNING:tensorflow:multiprocessing can interact badly with TensorFlow, causing nondeterministic deadlocks. For high performance data pipelines tf.data is recommended.\n",
            "312/312 [==============================] - 63s 192ms/step - loss: 0.0639 - accuracy: 0.9849 - val_loss: 5.0137 - val_accuracy: 0.4901\n",
            "Epoch 31/50\n",
            "WARNING:tensorflow:multiprocessing can interact badly with TensorFlow, causing nondeterministic deadlocks. For high performance data pipelines tf.data is recommended.\n",
            "311/312 [============================>.] - ETA: 0s - loss: 0.1202 - accuracy: 0.9686WARNING:tensorflow:multiprocessing can interact badly with TensorFlow, causing nondeterministic deadlocks. For high performance data pipelines tf.data is recommended.\n",
            "WARNING:tensorflow:multiprocessing can interact badly with TensorFlow, causing nondeterministic deadlocks. For high performance data pipelines tf.data is recommended.\n",
            "WARNING:tensorflow:multiprocessing can interact badly with TensorFlow, causing nondeterministic deadlocks. For high performance data pipelines tf.data is recommended.\n",
            "312/312 [==============================] - 66s 204ms/step - loss: 0.1202 - accuracy: 0.9686 - val_loss: 5.1453 - val_accuracy: 0.6261\n",
            "Epoch 32/50\n",
            "WARNING:tensorflow:multiprocessing can interact badly with TensorFlow, causing nondeterministic deadlocks. For high performance data pipelines tf.data is recommended.\n",
            "311/312 [============================>.] - ETA: 0s - loss: 0.1571 - accuracy: 0.9710WARNING:tensorflow:multiprocessing can interact badly with TensorFlow, causing nondeterministic deadlocks. For high performance data pipelines tf.data is recommended.\n",
            "WARNING:tensorflow:multiprocessing can interact badly with TensorFlow, causing nondeterministic deadlocks. For high performance data pipelines tf.data is recommended.\n",
            "312/312 [==============================] - 64s 192ms/step - loss: 0.1574 - accuracy: 0.9710 - val_loss: 1.1628 - val_accuracy: 0.8034\n",
            "Epoch 33/50\n",
            "WARNING:tensorflow:multiprocessing can interact badly with TensorFlow, causing nondeterministic deadlocks. For high performance data pipelines tf.data is recommended.\n",
            "312/312 [==============================] - ETA: 0s - loss: 0.0991 - accuracy: 0.9749WARNING:tensorflow:multiprocessing can interact badly with TensorFlow, causing nondeterministic deadlocks. For high performance data pipelines tf.data is recommended.\n",
            "WARNING:tensorflow:multiprocessing can interact badly with TensorFlow, causing nondeterministic deadlocks. For high performance data pipelines tf.data is recommended.\n",
            "WARNING:tensorflow:multiprocessing can interact badly with TensorFlow, causing nondeterministic deadlocks. For high performance data pipelines tf.data is recommended.\n",
            "312/312 [==============================] - 67s 203ms/step - loss: 0.0991 - accuracy: 0.9749 - val_loss: 4.8121 - val_accuracy: 0.4511\n",
            "Epoch 34/50\n",
            "WARNING:tensorflow:multiprocessing can interact badly with TensorFlow, causing nondeterministic deadlocks. For high performance data pipelines tf.data is recommended.\n",
            "310/312 [============================>.] - ETA: 0s - loss: 0.0485 - accuracy: 0.9864WARNING:tensorflow:multiprocessing can interact badly with TensorFlow, causing nondeterministic deadlocks. For high performance data pipelines tf.data is recommended.\n",
            "312/312 [==============================] - ETA: 0s - loss: 0.0486 - accuracy: 0.9864WARNING:tensorflow:multiprocessing can interact badly with TensorFlow, causing nondeterministic deadlocks. For high performance data pipelines tf.data is recommended.\n",
            "312/312 [==============================] - 65s 201ms/step - loss: 0.0487 - accuracy: 0.9864 - val_loss: 20.1492 - val_accuracy: 0.3812\n",
            "Epoch 35/50\n",
            "WARNING:tensorflow:multiprocessing can interact badly with TensorFlow, causing nondeterministic deadlocks. For high performance data pipelines tf.data is recommended.\n",
            "310/312 [============================>.] - ETA: 0s - loss: 0.0850 - accuracy: 0.9828WARNING:tensorflow:multiprocessing can interact badly with TensorFlow, causing nondeterministic deadlocks. For high performance data pipelines tf.data is recommended.\n",
            "312/312 [==============================] - ETA: 0s - loss: 0.0849 - accuracy: 0.9828WARNING:tensorflow:multiprocessing can interact badly with TensorFlow, causing nondeterministic deadlocks. For high performance data pipelines tf.data is recommended.\n",
            "WARNING:tensorflow:multiprocessing can interact badly with TensorFlow, causing nondeterministic deadlocks. For high performance data pipelines tf.data is recommended.\n",
            "312/312 [==============================] - 65s 200ms/step - loss: 0.0848 - accuracy: 0.9828 - val_loss: 0.9161 - val_accuracy: 0.8283\n",
            "Epoch 36/50\n",
            "WARNING:tensorflow:multiprocessing can interact badly with TensorFlow, causing nondeterministic deadlocks. For high performance data pipelines tf.data is recommended.\n",
            "311/312 [============================>.] - ETA: 0s - loss: 0.0399 - accuracy: 0.9902WARNING:tensorflow:multiprocessing can interact badly with TensorFlow, causing nondeterministic deadlocks. For high performance data pipelines tf.data is recommended.\n",
            "312/312 [==============================] - ETA: 0s - loss: 0.0399 - accuracy: 0.9902WARNING:tensorflow:multiprocessing can interact badly with TensorFlow, causing nondeterministic deadlocks. For high performance data pipelines tf.data is recommended.\n",
            "WARNING:tensorflow:multiprocessing can interact badly with TensorFlow, causing nondeterministic deadlocks. For high performance data pipelines tf.data is recommended.\n",
            "312/312 [==============================] - 67s 207ms/step - loss: 0.0399 - accuracy: 0.9902 - val_loss: 17.7993 - val_accuracy: 0.3768\n",
            "Epoch 37/50\n",
            "WARNING:tensorflow:multiprocessing can interact badly with TensorFlow, causing nondeterministic deadlocks. For high performance data pipelines tf.data is recommended.\n",
            "312/312 [==============================] - ETA: 0s - loss: 0.0655 - accuracy: 0.9850WARNING:tensorflow:multiprocessing can interact badly with TensorFlow, causing nondeterministic deadlocks. For high performance data pipelines tf.data is recommended.\n",
            "WARNING:tensorflow:multiprocessing can interact badly with TensorFlow, causing nondeterministic deadlocks. For high performance data pipelines tf.data is recommended.\n",
            "WARNING:tensorflow:multiprocessing can interact badly with TensorFlow, causing nondeterministic deadlocks. For high performance data pipelines tf.data is recommended.\n",
            "312/312 [==============================] - 66s 196ms/step - loss: 0.0656 - accuracy: 0.9850 - val_loss: 1.6825 - val_accuracy: 0.7632\n",
            "Epoch 38/50\n",
            "WARNING:tensorflow:multiprocessing can interact badly with TensorFlow, causing nondeterministic deadlocks. For high performance data pipelines tf.data is recommended.\n",
            "311/312 [============================>.] - ETA: 0s - loss: 0.0544 - accuracy: 0.9879WARNING:tensorflow:multiprocessing can interact badly with TensorFlow, causing nondeterministic deadlocks. For high performance data pipelines tf.data is recommended.\n",
            "WARNING:tensorflow:multiprocessing can interact badly with TensorFlow, causing nondeterministic deadlocks. For high performance data pipelines tf.data is recommended.\n",
            "312/312 [==============================] - 65s 200ms/step - loss: 0.0548 - accuracy: 0.9878 - val_loss: 378.4000 - val_accuracy: 0.2505\n",
            "Epoch 39/50\n",
            "WARNING:tensorflow:multiprocessing can interact badly with TensorFlow, causing nondeterministic deadlocks. For high performance data pipelines tf.data is recommended.\n",
            "311/312 [============================>.] - ETA: 0s - loss: 0.2513 - accuracy: 0.9591WARNING:tensorflow:multiprocessing can interact badly with TensorFlow, causing nondeterministic deadlocks. For high performance data pipelines tf.data is recommended.\n",
            "WARNING:tensorflow:multiprocessing can interact badly with TensorFlow, causing nondeterministic deadlocks. For high performance data pipelines tf.data is recommended.\n",
            "312/312 [==============================] - 65s 198ms/step - loss: 0.2510 - accuracy: 0.9592 - val_loss: 16.1995 - val_accuracy: 0.4383\n",
            "Epoch 40/50\n",
            "WARNING:tensorflow:multiprocessing can interact badly with TensorFlow, causing nondeterministic deadlocks. For high performance data pipelines tf.data is recommended.\n",
            "311/312 [============================>.] - ETA: 0s - loss: 0.0685 - accuracy: 0.9872WARNING:tensorflow:multiprocessing can interact badly with TensorFlow, causing nondeterministic deadlocks. For high performance data pipelines tf.data is recommended.\n",
            "312/312 [==============================] - ETA: 0s - loss: 0.0685 - accuracy: 0.9872WARNING:tensorflow:multiprocessing can interact badly with TensorFlow, causing nondeterministic deadlocks. For high performance data pipelines tf.data is recommended.\n",
            "312/312 [==============================] - 65s 198ms/step - loss: 0.0685 - accuracy: 0.9872 - val_loss: 3.6151 - val_accuracy: 0.7161\n",
            "Epoch 41/50\n",
            "WARNING:tensorflow:multiprocessing can interact badly with TensorFlow, causing nondeterministic deadlocks. For high performance data pipelines tf.data is recommended.\n",
            "312/312 [==============================] - ETA: 0s - loss: 0.0458 - accuracy: 0.9918WARNING:tensorflow:multiprocessing can interact badly with TensorFlow, causing nondeterministic deadlocks. For high performance data pipelines tf.data is recommended.\n",
            "WARNING:tensorflow:multiprocessing can interact badly with TensorFlow, causing nondeterministic deadlocks. For high performance data pipelines tf.data is recommended.\n",
            "312/312 [==============================] - 64s 199ms/step - loss: 0.0459 - accuracy: 0.9918 - val_loss: 1847.2274 - val_accuracy: 0.2505\n",
            "Epoch 42/50\n",
            "WARNING:tensorflow:multiprocessing can interact badly with TensorFlow, causing nondeterministic deadlocks. For high performance data pipelines tf.data is recommended.\n",
            "311/312 [============================>.] - ETA: 0s - loss: 0.1399 - accuracy: 0.9648WARNING:tensorflow:multiprocessing can interact badly with TensorFlow, causing nondeterministic deadlocks. For high performance data pipelines tf.data is recommended.\n",
            "WARNING:tensorflow:multiprocessing can interact badly with TensorFlow, causing nondeterministic deadlocks. For high performance data pipelines tf.data is recommended.\n",
            "312/312 [==============================] - 66s 202ms/step - loss: 0.1398 - accuracy: 0.9648 - val_loss: 4.0214 - val_accuracy: 0.6707\n",
            "Epoch 43/50\n",
            "WARNING:tensorflow:multiprocessing can interact badly with TensorFlow, causing nondeterministic deadlocks. For high performance data pipelines tf.data is recommended.\n",
            "312/312 [==============================] - ETA: 0s - loss: 0.0851 - accuracy: 0.9763WARNING:tensorflow:multiprocessing can interact badly with TensorFlow, causing nondeterministic deadlocks. For high performance data pipelines tf.data is recommended.\n",
            "WARNING:tensorflow:multiprocessing can interact badly with TensorFlow, causing nondeterministic deadlocks. For high performance data pipelines tf.data is recommended.\n",
            "WARNING:tensorflow:multiprocessing can interact badly with TensorFlow, causing nondeterministic deadlocks. For high performance data pipelines tf.data is recommended.\n",
            "312/312 [==============================] - 66s 199ms/step - loss: 0.0850 - accuracy: 0.9763 - val_loss: 23.8219 - val_accuracy: 0.5706\n",
            "Epoch 44/50\n",
            "WARNING:tensorflow:multiprocessing can interact badly with TensorFlow, causing nondeterministic deadlocks. For high performance data pipelines tf.data is recommended.\n",
            "310/312 [============================>.] - ETA: 0s - loss: 0.0615 - accuracy: 0.9866WARNING:tensorflow:multiprocessing can interact badly with TensorFlow, causing nondeterministic deadlocks. For high performance data pipelines tf.data is recommended.\n",
            "312/312 [==============================] - ETA: 0s - loss: 0.0615 - accuracy: 0.9866WARNING:tensorflow:multiprocessing can interact badly with TensorFlow, causing nondeterministic deadlocks. For high performance data pipelines tf.data is recommended.\n",
            "WARNING:tensorflow:multiprocessing can interact badly with TensorFlow, causing nondeterministic deadlocks. For high performance data pipelines tf.data is recommended.\n",
            "312/312 [==============================] - 66s 206ms/step - loss: 0.0615 - accuracy: 0.9867 - val_loss: 7.0017 - val_accuracy: 0.6976\n",
            "Epoch 45/50\n",
            "WARNING:tensorflow:multiprocessing can interact badly with TensorFlow, causing nondeterministic deadlocks. For high performance data pipelines tf.data is recommended.\n",
            "312/312 [==============================] - ETA: 0s - loss: 0.1614 - accuracy: 0.9706WARNING:tensorflow:multiprocessing can interact badly with TensorFlow, causing nondeterministic deadlocks. For high performance data pipelines tf.data is recommended.\n",
            "WARNING:tensorflow:multiprocessing can interact badly with TensorFlow, causing nondeterministic deadlocks. For high performance data pipelines tf.data is recommended.\n",
            "312/312 [==============================] - 64s 193ms/step - loss: 0.1612 - accuracy: 0.9706 - val_loss: 2.9488 - val_accuracy: 0.6534\n",
            "Epoch 46/50\n",
            "WARNING:tensorflow:multiprocessing can interact badly with TensorFlow, causing nondeterministic deadlocks. For high performance data pipelines tf.data is recommended.\n",
            "312/312 [==============================] - ETA: 0s - loss: 0.1340 - accuracy: 0.9818WARNING:tensorflow:multiprocessing can interact badly with TensorFlow, causing nondeterministic deadlocks. For high performance data pipelines tf.data is recommended.\n",
            "WARNING:tensorflow:multiprocessing can interact badly with TensorFlow, causing nondeterministic deadlocks. For high performance data pipelines tf.data is recommended.\n",
            "312/312 [==============================] - 63s 196ms/step - loss: 0.1340 - accuracy: 0.9818 - val_loss: 911.6448 - val_accuracy: 0.2738\n",
            "Epoch 47/50\n",
            "WARNING:tensorflow:multiprocessing can interact badly with TensorFlow, causing nondeterministic deadlocks. For high performance data pipelines tf.data is recommended.\n",
            "311/312 [============================>.] - ETA: 0s - loss: 0.1125 - accuracy: 0.9697WARNING:tensorflow:multiprocessing can interact badly with TensorFlow, causing nondeterministic deadlocks. For high performance data pipelines tf.data is recommended.\n",
            "WARNING:tensorflow:multiprocessing can interact badly with TensorFlow, causing nondeterministic deadlocks. For high performance data pipelines tf.data is recommended.\n",
            "WARNING:tensorflow:multiprocessing can interact badly with TensorFlow, causing nondeterministic deadlocks. For high performance data pipelines tf.data is recommended.\n",
            "312/312 [==============================] - 67s 209ms/step - loss: 0.1122 - accuracy: 0.9698 - val_loss: 6.0318 - val_accuracy: 0.7366\n",
            "Epoch 48/50\n",
            "WARNING:tensorflow:multiprocessing can interact badly with TensorFlow, causing nondeterministic deadlocks. For high performance data pipelines tf.data is recommended.\n",
            "312/312 [==============================] - ETA: 0s - loss: 0.0667 - accuracy: 0.9883WARNING:tensorflow:multiprocessing can interact badly with TensorFlow, causing nondeterministic deadlocks. For high performance data pipelines tf.data is recommended.\n",
            "WARNING:tensorflow:multiprocessing can interact badly with TensorFlow, causing nondeterministic deadlocks. For high performance data pipelines tf.data is recommended.\n",
            "312/312 [==============================] - 66s 199ms/step - loss: 0.0667 - accuracy: 0.9883 - val_loss: 1.5434 - val_accuracy: 0.8134\n",
            "Epoch 49/50\n",
            "WARNING:tensorflow:multiprocessing can interact badly with TensorFlow, causing nondeterministic deadlocks. For high performance data pipelines tf.data is recommended.\n",
            "312/312 [==============================] - ETA: 0s - loss: 0.0674 - accuracy: 0.9874WARNING:tensorflow:multiprocessing can interact badly with TensorFlow, causing nondeterministic deadlocks. For high performance data pipelines tf.data is recommended.\n",
            "WARNING:tensorflow:multiprocessing can interact badly with TensorFlow, causing nondeterministic deadlocks. For high performance data pipelines tf.data is recommended.\n",
            "312/312 [==============================] - 65s 198ms/step - loss: 0.0674 - accuracy: 0.9874 - val_loss: 9.7884 - val_accuracy: 0.7246\n",
            "Epoch 50/50\n",
            "WARNING:tensorflow:multiprocessing can interact badly with TensorFlow, causing nondeterministic deadlocks. For high performance data pipelines tf.data is recommended.\n",
            "311/312 [============================>.] - ETA: 0s - loss: 0.0470 - accuracy: 0.9908WARNING:tensorflow:multiprocessing can interact badly with TensorFlow, causing nondeterministic deadlocks. For high performance data pipelines tf.data is recommended.\n",
            "312/312 [==============================] - ETA: 0s - loss: 0.0471 - accuracy: 0.9908WARNING:tensorflow:multiprocessing can interact badly with TensorFlow, causing nondeterministic deadlocks. For high performance data pipelines tf.data is recommended.\n",
            "312/312 [==============================] - 65s 200ms/step - loss: 0.0472 - accuracy: 0.9908 - val_loss: 3.0930 - val_accuracy: 0.6345\n"
          ],
          "name": "stdout"
        },
        {
          "output_type": "execute_result",
          "data": {
            "text/plain": [
              "<tensorflow.python.keras.callbacks.History at 0x7f7861cbb278>"
            ]
          },
          "metadata": {
            "tags": []
          },
          "execution_count": 26
        }
      ]
    },
    {
      "cell_type": "code",
      "metadata": {
        "colab": {
          "base_uri": "https://localhost:8080/"
        },
        "id": "GUv_YPA1eiBO",
        "outputId": "1d5f9eb4-6bc1-4312-9d39-5a98dc8c9e02"
      },
      "source": [
        "WBC_classifier.evaluate_generator(test_data,max_queue_size=120,workers=10,use_multiprocessing=True)"
      ],
      "execution_count": 27,
      "outputs": [
        {
          "output_type": "stream",
          "text": [
            "/usr/local/lib/python3.6/dist-packages/tensorflow/python/keras/engine/training.py:1877: UserWarning: `Model.evaluate_generator` is deprecated and will be removed in a future version. Please use `Model.evaluate`, which supports generators.\n",
            "  warnings.warn('`Model.evaluate_generator` is deprecated and '\n"
          ],
          "name": "stderr"
        },
        {
          "output_type": "stream",
          "text": [
            "WARNING:tensorflow:multiprocessing can interact badly with TensorFlow, causing nondeterministic deadlocks. For high performance data pipelines tf.data is recommended.\n"
          ],
          "name": "stdout"
        },
        {
          "output_type": "execute_result",
          "data": {
            "text/plain": [
              "[3.0929811000823975, 0.6344993710517883]"
            ]
          },
          "metadata": {
            "tags": []
          },
          "execution_count": 27
        }
      ]
    },
    {
      "cell_type": "code",
      "metadata": {
        "id": "RHYdVb99r_Qs"
      },
      "source": [
        "WBC_classifier.save('WBC_classifier.h5')"
      ],
      "execution_count": 28,
      "outputs": []
    }
  ]
}